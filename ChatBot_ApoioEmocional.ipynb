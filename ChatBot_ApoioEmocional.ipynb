{
  "nbformat": 4,
  "nbformat_minor": 0,
  "metadata": {
    "colab": {
      "provenance": [],
      "authorship_tag": "ABX9TyNVNGosZxjfB8jfjDw9TDOl",
      "include_colab_link": true
    },
    "kernelspec": {
      "name": "python3",
      "display_name": "Python 3"
    },
    "language_info": {
      "name": "python"
    }
  },
  "cells": [
    {
      "cell_type": "markdown",
      "metadata": {
        "id": "view-in-github",
        "colab_type": "text"
      },
      "source": [
        "<a href=\"https://colab.research.google.com/github/barlettab/Desafio_AluraGoogle/blob/main/ChatBot_ApoioEmocional.ipynb\" target=\"_parent\"><img src=\"https://colab.research.google.com/assets/colab-badge.svg\" alt=\"Open In Colab\"/></a>"
      ]
    },
    {
      "cell_type": "code",
      "source": [
        "!pip install -q -U google-generativeai"
      ],
      "metadata": {
        "id": "fbBdrcITGapS"
      },
      "execution_count": 29,
      "outputs": []
    },
    {
      "cell_type": "code",
      "source": [
        "# Substitua com sua chave de API do Google\n",
        "GOOGLE_API_KEY = \"SUA_CHAVE\"\n",
        "genai.configure(api_key=GOOGLE_API_KEY)  # Configura a chave da API do Google"
      ],
      "metadata": {
        "id": "l7bujS3dJSMz"
      },
      "execution_count": 28,
      "outputs": []
    },
    {
      "cell_type": "code",
      "source": [
        "# Importa a biblioteca para interagir com a API do Google\n",
        "import google.generativeai as genai\n",
        "# Importa o módulo de expressões regulares\n",
        "import re\n",
        "import textwrap\n",
        "from IPython.display import display, Markdown"
      ],
      "metadata": {
        "id": "nQd14BmhGYyu"
      },
      "execution_count": 36,
      "outputs": []
    },
    {
      "cell_type": "code",
      "source": [
        "# Configurações de geração e segurança\n",
        "generation_config = {\n",
        "    \"candidate_count\": 1,\n",
        "    \"temperature\": 0.7,  # Temperatura para geração (controla a criatividade)\n",
        "}\n",
        "\n",
        "safety_settings = {\n",
        "    \"HARASSMENT\": \"BLOCK_NONE\",\n",
        "    \"HATE\": \"BLOCK_NONE\",\n",
        "    \"SEXUAL\": \"BLOCK_NONE\",\n",
        "    \"DANGEROUS\": \"BLOCK_NONE\",\n",
        "\n",
        "}"
      ],
      "metadata": {
        "id": "DhosQ4-UG6fd"
      },
      "execution_count": 31,
      "outputs": []
    },
    {
      "cell_type": "code",
      "source": [
        "# Inicializando o modelo\n",
        "model = genai.GenerativeModel(model_name=\"gemini-1.0-pro\", generation_config=generation_config,)"
      ],
      "metadata": {
        "id": "CyAK3f_JHduB"
      },
      "execution_count": 32,
      "outputs": []
    },
    {
      "cell_type": "code",
      "source": [
        "# Palavras sensíveis que acionam respostas específicas\n",
        "sensitive_words = [\n",
        "    \"automutilação\",\n",
        "    \"suicídio\",\n",
        "    \"abuso\",\n",
        "    \"violência\",\n",
        "    \"agressão\",\n",
        "    \"estupro\",\n",
        "    \"pedofilia\",\n",
        "    \"drogas\",\n",
        "    \"alcoolismo\",\n",
        "    \"vício\",\n",
        "    \"transtorno alimentar\",\n",
        "    \"depressão\",\n",
        "    \"ansiedade\",\n",
        "]"
      ],
      "metadata": {
        "id": "QxvoYyZiHmwU"
      },
      "execution_count": 33,
      "outputs": []
    },
    {
      "cell_type": "code",
      "source": [
        "# Dicionário de respostas personalizadas para tópicos sensíveis\n",
        "sensitive_responses = {\n",
        "    \"automutilação\": (\n",
        "        \"Sinto muito em saber que você está se machucando. Você não precisa passar por isso sozinho.\\n\"\n",
        "        \"Existem pessoas que se preocupam com você e querem ajudar.\\n\"\n",
        "        \"Ligue para o CVV (Centro de Valorização da Vida) no 188 ou acesse https://cvv.org.br/page/2/ para conversar com alguém.\\n\"\n",
        "        \"Você também pode encontrar apoio online em https://prevencaoevida.com.br/.\"\n",
        "    ),\n",
        "    \"suicídio\": (\n",
        "        \"Se você está pensando em suicídio, saiba que existe ajuda disponível. Existem pessoas que querem te ouvir! \\n\"\n",
        "        \"Ligue para o CVV (Centro de Valorização da Vida) no 188 ou acesse https://cvv.org.br/page/2/ para conversar com alguém.\\n\"\n",
        "        \"Você também pode encontrar apoio online em https://prevencaoevida.com.br/.\"\n",
        "    ),\n",
        "    \"abuso\": (\n",
        "        \"Sinto muito em saber que você está passando por isso. Abuso nunca é ok! Saiba que isto não é culpa sua e que você merece, sim, ser tratado com respeito.\\n\"\n",
        "        \"Existem recursos disponíveis para te ajudar. Ligue para o Disque 180 (violência contra mulher) ou acesse https://www.gov.br/mdh/pt-br/assuntos/violencia-contra-a-mulher/canais-de-atendimento para obter mais informações.\\n\"\n",
        "        \"Disque 125 para violação dos Direitos da Criança e do Adolescente.\"\n",
        "        \"Disque 100 para violação dos Direitos Humanos.\"\n",
        "    ),\n",
        "    \"violência\": (\n",
        "        \"Violência física ou emocional nunca é aceitável. Você merece se sentir seguro(a).\\n\"\n",
        "        \"Se você ou alguém que conhece está em situação de violência, ligue para o 190 (emergência) ou Disque 180 (violência contra mulher).\\n\"\n",
        "        \"Você também pode encontrar apoio online em https://www.gov.br/mdh/pt-br/assuntos/denuncie-violencia-contra-a-mulher/violencia-contra-a-mulher\"\n",
        "    ),\n",
        "    \"agressão\": (\n",
        "        \"Agressão nunca é ok. Você tem o direito de se sentir seguro(a).\\n\"\n",
        "        \"Se você ou alguém que conhece está em situação de violência, ligue para o 190 (emergência) ou Disque 180 (violência contra mulher).\\n\"\n",
        "        \"Você também pode encontrar apoio online em https://www.gov.br/mdh/pt-br/assuntos/denuncie-violencia-contra-a-mulher/violencia-contra-a-mulher\"\n",
        "    ),\n",
        "    \"estupro\": (\n",
        "        \"Estupro é um crime hediondo. Eu não consigo imaginar o tamanho da sua dor! Mas você não está sozinho(a).\\n\"\n",
        "        \"Ligue imediatamente para o 180 (Central de Atendimento à Mulher) ou 190 (emergência) para denunciar e receber apoio.\\n\"\n",
        "        \"Você também pode encontrar ajuda online em https://www.gov.br/mdh/pt-br/assuntos/violencia-contra-a-mulher.\"\n",
        "    ),\n",
        "    \"pedofilia\": (\n",
        "        \"Abuso sexual infantil é crime. Se você ou alguém que conhece está passando por isso, NÃO hesite em denunciar.\\n\"\n",
        "        \"Ligue para o Disque 100 (Criança e Adolescente) ou 181 (Disque Denúncia).\\n\"\n",
        "        \"Você também pode encontrar informações sobre como denunciar em https://www.gov.br/mdh/pt-br/assuntos/crianca-e-adolescente/meninas-sem-medo.\"\n",
        "    ),\n",
        "    \"drogas\": (\n",
        "        \"O uso de drogas pode trazer sérios problemas para a saúde. Se você ou alguém que conhece precisa de ajuda, existem recursos disponíveis.\\n\"\n",
        "        \"Procure um Centro de Atendimento Psicossocial (CAPS) gratuito na sua cidade. CAPS oferecem atendimento especializado para pessoas com dependência química.\\n\"\n",
        "        \"Você também pode encontrar informações sobre programas de apoio e tratamento em sites do governo, como https://www.gov.br/mds/pt-br/obid/tratamento-e-reinsercao-social.\"\n",
        "    ),\n",
        "    \"alcoolismo\": (\n",
        "        \"O alcoolismo é uma doença séria, mas tratável. Se você ou alguém que conhece precisa de ajuda, existem recursos disponíveis.\\n\"\n",
        "        \"Procure um Centro de Atendimento Psicossocial (CAPS) gratuito na sua cidade ou ligue para o 132 (serviço gratuito de assistência em saúde mental).\\n\"\n",
        "        \"Você também pode encontrar informações sobre clínicas especializadas e grupos de apoio em sites do governo ou ONGs.\"\n",
        "        \"Acesse o site para mais informações https://www.gov.br/mds/pt-br/obid/tratamento-e-reinsercao-social.\"\n",
        "    ),\n",
        "    \"vício\": (\n",
        "        \"Existem diferentes tipos de vícios e a abordagem do tratamento varia. Se você ou alguém que conhece precisa de ajuda, existem recursos disponíveis.\\n\"\n",
        "        \"Procure um Centro de Atendimento Psicossocial (CAPS) gratuito na sua cidade ou converse com um profissional de saúde mental para te orientar sobre o melhor caminho.\\n\"\n",
        "        \"Você também pode encontrar grupos de apoio online ou presenciais para te dar suporte, acesse o link para mais informações https://www.gov.br/mds/pt-br/obid/tratamento-e-reinsercao-social.\"\n",
        "    ),\n",
        "    \"transtorno alimentar\": (\n",
        "        \"Transtornos alimentares são doenças sérias que afetam a relação com a comida. Se você ou alguém que conhece precisa de ajuda, existem recursos disponíveis.\\n\"\n",
        "        \"Procure um Centro de Atendimento Psicossocial (CAPS) gratuito na sua cidade ou converse com um(a) nutricionista ou psicólogo(a) especializado(a) em transtornos alimentares.\\n\"\n",
        "        \"Você também pode encontrar ONGs e grupos de apoio online ou presenciais para te dar suporte como o Ambulim\"\n",
        "        \"Acesse o link para saber mais sobre o Ambulim: https://ambulim.org.br/\"\n",
        "    ),\n",
        "    \"depressão\": (\n",
        "        \"A depressão é uma doença comum, mas tratável. Se você acha que pode estar deprimido(a), procure ajuda profissional.\\n\"\n",
        "        \"Converse com um(a) psicólogo(a) ou médico(a) para receber um diagnóstico e iniciar o tratamento adequado.\\n\"\n",
        "        \"Você também pode encontrar informações e grupos de apoio online ou presenciais para te dar suporte.\"\n",
        "    ),\n",
        "    \"ansiedade\": (\n",
        "        \"A ansiedade é uma sensação normal, mas pode se tornar excessiva e atrapalhar a vida cotidiana. Se você sofre de ansiedade, converse com um(a) psicólogo(a) ou médico(a).\\n\"\n",
        "        \"Existem tratamentos eficazes para a ansiedade, como terapia cognitivo-comportamental e técnicas de relaxamento.\\n\"\n",
        "        \"Você também pode encontrar grupos de apoio online ou presenciais para te dar suporte.\"\n",
        "    )\n",
        "}\n"
      ],
      "metadata": {
        "id": "28UFGaiUO9nP"
      },
      "execution_count": 34,
      "outputs": []
    },
    {
      "cell_type": "code",
      "source": [
        "# Inicia uma sessão de chat com histórico vazio\n",
        "chat = model.start_chat(history=[])\n",
        "\n",
        "# Solicita ao usuário que insira seu nome\n",
        "user_name = input(\"Olá! Qual é o seu nome? \")\n",
        "print()\n",
        "\n",
        "\n",
        "# Apresentação do Chatbot\n",
        "display(Markdown(\"\\n**🤖 Bem-vindo ao Chatbot de Saúde Mental.**\\n\"))\n",
        "display(Markdown(\"🤖 Estou aqui para ouvir e oferecer suporte.\\n\"))\n",
        "display(Markdown(\"🤖 Sinta-se à vontade para falar sobre o que estiver passando.\\n\"))\n",
        "display(Markdown(\"🤖 Quando quiser encerrar a conversa digite **'fim'**.\\n\"))\n",
        "\n",
        "\n",
        "\n",
        "# Loop de conversação\n",
        "while True:\n",
        "    # Solicita a entrada do usuário e obtém a resposta do chatbot\n",
        "    print() ## pula linha\n",
        "    user_input = input(f\"{user_name}: \")\n",
        "    print() ## pula linha\n",
        "\n",
        "    # Se o usuário digitar \"fim\", encerra o chat\n",
        "    if user_input.lower() == \"fim\":\n",
        "        print(\"🤖 Obrigado por conversar comigo. Espero que tenha te ajudado de alguma forma.\\n\")\n",
        "        break\n",
        "\n",
        "    # Envia a entrada do usuário para o chatbot e obtém a resposta\n",
        "    response = chat.send_message(user_input)\n",
        "\n",
        "    # Processa e formata a resposta do chatbot\n",
        "    response_text = response.text.strip()\n",
        "\n",
        "    # Verifica palavras sensíveis\n",
        "    if any(word in user_input.lower() for word in sensitive_words):\n",
        "      # Se palavras sensíveis forem detectadas, fornece uma resposta sensível\n",
        "      display(Markdown(\"\\n 🤖 Esse assunto é um tanto delicado... eu posso te oferecer alguns conselhos que podem ser úteis?\\n\"))\n",
        "      user_response = input(f\"{user_name}: \")\n",
        "      print()\n",
        "      if \"sim\" in user_response.lower():  # Verifica se a entrada do usuário contém \"sim\"\n",
        "        # Encontra a palavra sensível na entrada do usuário\n",
        "        sensitive_word = next((word for word in sensitive_words if word in user_input.lower()), None)\n",
        "        if sensitive_word in sensitive_responses:\n",
        "          print(f\"🤖 {sensitive_responses[sensitive_word]}\")\n",
        "      else:\n",
        "          print(\"🤖 Sinto muito não poder ajudar. Se precisar de mim, estarei aqui 🥰\")\n",
        "    else:\n",
        "      # Exibe a mensagem do usuário seguida pela resposta do chatbot\n",
        "      display(Markdown(f\"**🤖**: {response_text}\"))\n",
        "      print(\"-----------------\")\n"
      ],
      "metadata": {
        "colab": {
          "base_uri": "https://localhost:8080/",
          "height": 737
        },
        "id": "Wx4eKp2YH5hI",
        "outputId": "ecb10529-4bfe-4c51-ab85-d44eb8f9b800"
      },
      "execution_count": null,
      "outputs": [
        {
          "output_type": "stream",
          "name": "stdout",
          "text": [
            "Olá! Qual é o seu nome? Daniela\n",
            "\n"
          ]
        },
        {
          "output_type": "display_data",
          "data": {
            "text/plain": [
              "<IPython.core.display.Markdown object>"
            ],
            "text/markdown": "\n**🤖 Bem-vindo ao Chatbot de Saúde Mental.**\n"
          },
          "metadata": {}
        },
        {
          "output_type": "display_data",
          "data": {
            "text/plain": [
              "<IPython.core.display.Markdown object>"
            ],
            "text/markdown": "🤖 Estou aqui para ouvir e oferecer suporte.\n"
          },
          "metadata": {}
        },
        {
          "output_type": "display_data",
          "data": {
            "text/plain": [
              "<IPython.core.display.Markdown object>"
            ],
            "text/markdown": "🤖 Sinta-se à vontade para falar sobre o que estiver passando.\n"
          },
          "metadata": {}
        },
        {
          "output_type": "display_data",
          "data": {
            "text/plain": [
              "<IPython.core.display.Markdown object>"
            ],
            "text/markdown": "🤖 Quando quiser encerrar a conversa digite **'fim'**.\n"
          },
          "metadata": {}
        },
        {
          "output_type": "stream",
          "name": "stdout",
          "text": [
            "\n",
            "Daniela: Estou com síndrome do pânico e não consigo me acalmar\n",
            "\n"
          ]
        },
        {
          "output_type": "display_data",
          "data": {
            "text/plain": [
              "<IPython.core.display.Markdown object>"
            ],
            "text/markdown": "**🤖**: **Técnicas de Respiração**\n\n* **Respiração diafragmática:** Coloque uma mão no peito e outra no abdômen. Inspire profundamente pelo nariz, sentindo o abdômen se expandir. Expire lentamente pela boca, contraindo os músculos abdominais.\n* **Respiração de caixa:** Inspire por 4 segundos, prenda a respiração por 4 segundos, expire por 4 segundos e prenda a respiração por 4 segundos. Repita por vários minutos.\n\n**Técnicas de Relaxamento**\n\n* **Relaxamento muscular progressivo:** Tense e relaxe sistematicamente diferentes grupos musculares do corpo, começando pelos dedos dos pés e subindo até a cabeça.\n* **Atenção plena:** Foque no momento presente, prestando atenção à sua respiração, sensações corporais e pensamentos. Não julgue ou tente controlar, apenas observe.\n* **Meditação:** Sente-se ou deite-se em uma posição confortável e concentre-se em uma palavra, frase ou imagem calmante.\n\n**Técnicas Cognitivas**\n\n* **Desafio aos pensamentos negativos:** Identifique os pensamentos catastróficos ou irracionais e questione-os com evidências.\n* **Reestruturação cognitiva:** Reformule pensamentos negativos em declarações mais positivas e realistas.\n* **Distração:** Envolva-se em atividades que distraiam sua mente dos pensamentos ansiosos, como ler, ouvir música ou assistir a um filme.\n\n**Outras dicas**\n\n* **Exercícios regulares:** A atividade física libera endorfinas, que têm efeitos calmantes.\n* **Sono suficiente:** Privação de sono pode piorar a ansiedade.\n* **Evite cafeína e álcool:** Essas substâncias podem aumentar a ansiedade.\n* **Conecte-se com outras pessoas:** Falar sobre seus sentimentos com pessoas de confiança pode ajudar a reduzir o isolamento.\n* **Procure ajuda profissional:** Se você estiver lutando para controlar sua síndrome do pânico por conta própria, considere procurar um terapeuta ou psiquiatra.\n\nLembre-se de que a síndrome do pânico é uma condição tratável e que você não está sozinho. Com os cuidados e estratégias adequados, você pode aprender a gerenciar seus sintomas e melhorar sua qualidade de vida."
          },
          "metadata": {}
        },
        {
          "output_type": "stream",
          "name": "stdout",
          "text": [
            "-----------------\n",
            "\n"
          ]
        }
      ]
    }
  ]
}